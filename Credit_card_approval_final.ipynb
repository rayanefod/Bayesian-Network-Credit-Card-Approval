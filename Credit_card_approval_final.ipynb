{
  "cells": [
    {
      "cell_type": "markdown",
      "metadata": {
        "id": "yz3b-8fwySDX"
      },
      "source": [
        "# Implementation of the Bayesian Network"
      ],
      "id": "yz3b-8fwySDX"
    },
    {
      "cell_type": "markdown",
      "metadata": {
        "id": "oZHLOQP2ySDt"
      },
      "source": [
        "### Geographical representation of the Bayesian Network"
      ],
      "id": "oZHLOQP2ySDt"
    },
    {
      "cell_type": "code",
      "execution_count": 67,
      "metadata": {
        "colab": {
          "base_uri": "https://localhost:8080/"
        },
        "id": "iO3PXnU3ySDx",
        "outputId": "d27befcb-8186-4c11-979d-806d3ca54de9"
      },
      "outputs": [
        {
          "output_type": "stream",
          "name": "stdout",
          "text": [
            "Looking in indexes: https://pypi.org/simple, https://us-python.pkg.dev/colab-wheels/public/simple/\n",
            "Requirement already satisfied: networkx in /usr/local/lib/python3.8/dist-packages (3.0)\n",
            "Looking in indexes: https://pypi.org/simple, https://us-python.pkg.dev/colab-wheels/public/simple/\n",
            "Requirement already satisfied: pgmpy in /usr/local/lib/python3.8/dist-packages (0.1.21)\n",
            "Requirement already satisfied: tqdm in /usr/local/lib/python3.8/dist-packages (from pgmpy) (4.64.1)\n",
            "Requirement already satisfied: opt-einsum in /usr/local/lib/python3.8/dist-packages (from pgmpy) (3.3.0)\n",
            "Requirement already satisfied: numpy in /usr/local/lib/python3.8/dist-packages (from pgmpy) (1.21.6)\n",
            "Requirement already satisfied: joblib in /usr/local/lib/python3.8/dist-packages (from pgmpy) (1.2.0)\n",
            "Requirement already satisfied: torch in /usr/local/lib/python3.8/dist-packages (from pgmpy) (1.13.1+cu116)\n",
            "Requirement already satisfied: scipy in /usr/local/lib/python3.8/dist-packages (from pgmpy) (1.7.3)\n",
            "Requirement already satisfied: networkx in /usr/local/lib/python3.8/dist-packages (from pgmpy) (3.0)\n",
            "Requirement already satisfied: pandas in /usr/local/lib/python3.8/dist-packages (from pgmpy) (1.3.5)\n",
            "Requirement already satisfied: scikit-learn in /usr/local/lib/python3.8/dist-packages (from pgmpy) (1.0.2)\n",
            "Requirement already satisfied: pyparsing in /usr/local/lib/python3.8/dist-packages (from pgmpy) (3.0.9)\n",
            "Requirement already satisfied: statsmodels in /usr/local/lib/python3.8/dist-packages (from pgmpy) (0.12.2)\n",
            "Requirement already satisfied: python-dateutil>=2.7.3 in /usr/local/lib/python3.8/dist-packages (from pandas->pgmpy) (2.8.2)\n",
            "Requirement already satisfied: pytz>=2017.3 in /usr/local/lib/python3.8/dist-packages (from pandas->pgmpy) (2022.7)\n",
            "Requirement already satisfied: threadpoolctl>=2.0.0 in /usr/local/lib/python3.8/dist-packages (from scikit-learn->pgmpy) (3.1.0)\n",
            "Requirement already satisfied: patsy>=0.5 in /usr/local/lib/python3.8/dist-packages (from statsmodels->pgmpy) (0.5.3)\n",
            "Requirement already satisfied: typing-extensions in /usr/local/lib/python3.8/dist-packages (from torch->pgmpy) (4.4.0)\n",
            "Requirement already satisfied: six in /usr/local/lib/python3.8/dist-packages (from patsy>=0.5->statsmodels->pgmpy) (1.15.0)\n"
          ]
        }
      ],
      "source": [
        "#import libraries for graph construction and plotting\n",
        "import pandas as pd\n",
        "!pip install networkx\n",
        "!pip install pgmpy\n",
        "import networkx as nx \n",
        "import matplotlib.pyplot as plt"
      ],
      "id": "iO3PXnU3ySDx"
    },
    {
      "cell_type": "code",
      "source": [
        "#Create a directed graph\n",
        "card_approval_network=nx.DiGraph()\n",
        "card_approval_network.add_node('Approval')\n",
        "card_approval_network.add_node('Debt')\n",
        "card_approval_network.add_node('Default')\n",
        "card_approval_network.add_node('Employment')\n",
        "card_approval_network.add_node('CreditScore')\n",
        "card_approval_network.add_node('Income')\n",
        "card_approval_network.add_edge('Employment', 'Income')\n",
        "card_approval_network.add_edge('Income', 'Approval')\n",
        "card_approval_network.add_edge('CreditScore', 'Approval')\n",
        "card_approval_network.add_edge('Income', 'Debt')\n",
        "card_approval_network.add_edge('Debt', 'Default')\n",
        "card_approval_network.add_edge('Income', 'Default')\n",
        "\n",
        "#Define positions for the nodes\n",
        "pos = {\n",
        "    \"Approval\": (8,8),\n",
        "    \"Debt\": (5,6),\n",
        "    \"Default\": (3,6),\n",
        "    \"Employment\": (6,10),\n",
        "    \"CreditScore\": (8,10),\n",
        "    \"Income\": (6,8)\n",
        "}\n",
        "\n",
        "#Visusalise the graph\n",
        "plt.figure(figsize=(15,10))\n",
        "nx.draw_networkx(card_approval_network, pos)\n",
        "plt.title('Credit Card Approval Bayesian Network')\n",
        "plt.show()"
      ],
      "metadata": {
        "colab": {
          "base_uri": "https://localhost:8080/",
          "height": 441
        },
        "id": "0-4VhZd85kkE",
        "outputId": "0e6ca36c-31f8-4632-bf5c-f4573b56cad1"
      },
      "id": "0-4VhZd85kkE",
      "execution_count": 107,
      "outputs": [
        {
          "output_type": "display_data",
          "data": {
            "text/plain": [
              "<Figure size 1080x720 with 1 Axes>"
            ],
            "image/png": "[encoded data removed]"
          },
          "metadata": {}
        }
      ]
    },
    {
      "cell_type": "markdown",
      "metadata": {
        "id": "gKzUQ67qySD6"
      },
      "source": [
        "### Implementation of the Bayesian Network"
      ],
      "id": "gKzUQ67qySD6"
    },
    {
      "cell_type": "code",
      "execution_count": 69,
      "metadata": {
        "id": "pn_QTF0_ySD8"
      },
      "outputs": [],
      "source": [
        "#Import libraries \n",
        "import numpy as np\n",
        "from pgmpy.factors.discrete import TabularCPD\n",
        "from pgmpy.models import BayesianNetwork"
      ],
      "id": "pn_QTF0_ySD8"
    },
    {
      "cell_type": "code",
      "execution_count": 70,
      "metadata": {
        "id": "57syq5t-ySD-"
      },
      "outputs": [],
      "source": [
        "#Create the Bayesian Network as credit card \n",
        "credit_card = BayesianNetwork([(\"Employment\", \"Income\"),\n",
        "                               (\"Income\", \"Approval\"),\n",
        "                               (\"CreditScore\", \"Approval\"),\n",
        "                               (\"Income\", \"Debt\"),\n",
        "                               (\"Debt\", \"Default\"),\n",
        "                               (\"Income\",\"Default\")\n",
        "                              ])"
      ],
      "id": "57syq5t-ySD-"
    },
    {
      "cell_type": "markdown",
      "metadata": {
        "id": "9WVeXIM3ySEA"
      },
      "source": [
        "#### Conditional probability distributions\n"
      ],
      "id": "9WVeXIM3ySEA"
    },
    {
      "cell_type": "code",
      "execution_count": 71,
      "metadata": {
        "id": "1sUopaSfySEC"
      },
      "outputs": [],
      "source": [
        "# Employment CPD\n",
        "cpd_employment = TabularCPD(\n",
        "    variable='Employment', \n",
        "    variable_card=2, \n",
        "    values=[[0.8], #yes\n",
        "            [0.2]]) #no"
      ],
      "id": "1sUopaSfySEC"
    },
    {
      "cell_type": "code",
      "execution_count": 72,
      "metadata": {
        "id": "y41iZ8QRySEG"
      },
      "outputs": [],
      "source": [
        "# Income CPD\n",
        "cpd_income = TabularCPD(\n",
        "    variable='Income', \n",
        "    variable_card= 2, \n",
        "    values=[[0.7, 0.3], #high\n",
        "            [0.3, 0.7]], #low\n",
        "    evidence=['Employment'], \n",
        "    evidence_card=[2])"
      ],
      "id": "y41iZ8QRySEG"
    },
    {
      "cell_type": "code",
      "execution_count": 73,
      "metadata": {
        "id": "M7YcNq_qySEH"
      },
      "outputs": [],
      "source": [
        "# CreditScore CPD\n",
        "cpd_credit_score = TabularCPD(\n",
        "    variable='CreditScore', \n",
        "    variable_card=2, \n",
        "    values=[[0.7], #high\n",
        "            [0.3]]) #low"
      ],
      "id": "M7YcNq_qySEH"
    },
    {
      "cell_type": "code",
      "execution_count": 74,
      "metadata": {
        "id": "iT9HDYaYySEL"
      },
      "outputs": [],
      "source": [
        "# Approval CPD\n",
        "cpd_approval = TabularCPD(\n",
        "    variable='Approval', \n",
        "    variable_card=2, \n",
        "    values=[[0.9, 0.6, 0.6, 0.1], #yes\n",
        "            [0.1, 0.4, 0.4, 0.9]], #no\n",
        "    evidence=['Income', 'CreditScore'], \n",
        "    evidence_card=[2, 2])"
      ],
      "id": "iT9HDYaYySEL"
    },
    {
      "cell_type": "code",
      "execution_count": 88,
      "metadata": {
        "id": "BzECzh3OySEJ"
      },
      "outputs": [],
      "source": [
        "# Default CPD\n",
        "cpd_default = TabularCPD(\n",
        "    variable='Default', \n",
        "    variable_card=2, \n",
        "    values=[[0.6, 0.1, 0.9, 0.2], #yes\n",
        "            [0.4, 0.9, 0.1, 0.8]], #no\n",
        "    evidence=['Income', 'Debt'], \n",
        "    evidence_card=[2, 2])"
      ],
      "id": "BzECzh3OySEJ"
    },
    {
      "cell_type": "code",
      "execution_count": 76,
      "metadata": {
        "id": "nWoIYtGQySEK"
      },
      "outputs": [],
      "source": [
        "# Debt CPD\n",
        "cpd_debt = TabularCPD(\n",
        "    variable='Debt', \n",
        "    variable_card=2, \n",
        "    values=[[0.2, 0.7], #yes\n",
        "            [0.8, 0.3]], #no\n",
        "    evidence=['Income'], \n",
        "    evidence_card=[2])"
      ],
      "id": "nWoIYtGQySEK"
    },
    {
      "cell_type": "code",
      "execution_count": 89,
      "metadata": {
        "id": "ulOfZjSFySEN"
      },
      "outputs": [],
      "source": [
        "# Add the CPDs to the network\n",
        "credit_card.add_cpds(cpd_employment, cpd_income, cpd_credit_score, cpd_approval, cpd_default, cpd_debt)"
      ],
      "id": "ulOfZjSFySEN"
    },
    {
      "cell_type": "code",
      "execution_count": 90,
      "metadata": {
        "colab": {
          "base_uri": "https://localhost:8080/"
        },
        "id": "3uPO7DiWySEO",
        "outputId": "a5db6ece-84b2-4f60-97cd-64dff54ef935"
      },
      "outputs": [
        {
          "output_type": "execute_result",
          "data": {
            "text/plain": [
              "[<TabularCPD representing P(Approval:2 | Income:2, CreditScore:2) at 0x7fedb8f14280>,\n",
              " <TabularCPD representing P(CreditScore:2) at 0x7fedb9039460>,\n",
              " <TabularCPD representing P(Employment:2) at 0x7fedb8f14460>,\n",
              " <TabularCPD representing P(Income:2 | Employment:2) at 0x7fedb8f14cd0>,\n",
              " <TabularCPD representing P(Default:2 | Income:2, Debt:2) at 0x7fedb8e9fdc0>,\n",
              " <TabularCPD representing P(Debt:2 | Income:2) at 0x7fedb8f14130>]"
            ]
          },
          "metadata": {},
          "execution_count": 90
        }
      ],
      "source": [
        "# Check if CPDs were added correctly\n",
        "credit_card.get_cpds()"
      ],
      "id": "3uPO7DiWySEO"
    },
    {
      "cell_type": "code",
      "execution_count": 91,
      "metadata": {
        "colab": {
          "base_uri": "https://localhost:8080/"
        },
        "id": "bxezKcVkySEP",
        "outputId": "7b40dc07-9e32-41ea-b626-1252ef05889a"
      },
      "outputs": [
        {
          "output_type": "execute_result",
          "data": {
            "text/plain": [
              "{'CreditScore': {'Approval', 'CreditScore'}}"
            ]
          },
          "metadata": {},
          "execution_count": 91
        }
      ],
      "source": [
        "# Determine the nodes that are affected by 'CreditScore' \n",
        "credit_card.active_trail_nodes('CreditScore')"
      ],
      "id": "bxezKcVkySEP"
    },
    {
      "cell_type": "code",
      "execution_count": 92,
      "metadata": {
        "colab": {
          "base_uri": "https://localhost:8080/"
        },
        "id": "ndXcZ4mmySEQ",
        "outputId": "1fb54c6c-07f0-48b3-9810-dba2ad9d61a3"
      },
      "outputs": [
        {
          "output_type": "execute_result",
          "data": {
            "text/plain": [
              "{'Approval': {'Approval',\n",
              "  'CreditScore',\n",
              "  'Debt',\n",
              "  'Default',\n",
              "  'Employment',\n",
              "  'Income'}}"
            ]
          },
          "metadata": {},
          "execution_count": 92
        }
      ],
      "source": [
        "# Determine the nodes that are affected by 'Approval' \n",
        "credit_card.active_trail_nodes('Approval')"
      ],
      "id": "ndXcZ4mmySEQ"
    },
    {
      "cell_type": "code",
      "execution_count": 93,
      "metadata": {
        "colab": {
          "base_uri": "https://localhost:8080/"
        },
        "id": "4ogn86d5ySER",
        "outputId": "94da8652-c7be-4d59-9158-5c5e05f4f3c0"
      },
      "outputs": [
        {
          "output_type": "execute_result",
          "data": {
            "text/plain": [
              "{'Default': {'Approval', 'Debt', 'Default', 'Employment', 'Income'}}"
            ]
          },
          "metadata": {},
          "execution_count": 93
        }
      ],
      "source": [
        "# Determine the nodes that are affected by 'Approval' \n",
        "credit_card.active_trail_nodes('Default')"
      ],
      "id": "4ogn86d5ySER"
    },
    {
      "cell_type": "code",
      "execution_count": 94,
      "metadata": {
        "colab": {
          "base_uri": "https://localhost:8080/"
        },
        "id": "Y4xy2lz4ySEU",
        "outputId": "b8578b66-5ada-49f5-b647-3fc2b17a3402"
      },
      "outputs": [
        {
          "output_type": "stream",
          "name": "stdout",
          "text": [
            "+------------+---------------+---------------+\n",
            "| Employment | Employment(0) | Employment(1) |\n",
            "+------------+---------------+---------------+\n",
            "| Income(0)  | 0.7           | 0.3           |\n",
            "+------------+---------------+---------------+\n",
            "| Income(1)  | 0.3           | 0.7           |\n",
            "+------------+---------------+---------------+\n"
          ]
        }
      ],
      "source": [
        "# Display an example of conditional probabilities \n",
        "print(credit_card.get_cpds('Income'))"
      ],
      "id": "Y4xy2lz4ySEU"
    },
    {
      "cell_type": "code",
      "execution_count": 95,
      "metadata": {
        "colab": {
          "base_uri": "https://localhost:8080/"
        },
        "id": "1XUQmSz9ySEV",
        "outputId": "f1147ec9-e1e4-4402-e4e3-d1828ff30ea0"
      },
      "outputs": [
        {
          "output_type": "execute_result",
          "data": {
            "text/plain": [
              "(Income ⟂ CreditScore)\n",
              "(Income ⟂ CreditScore | Employment)\n",
              "(Income ⟂ CreditScore | Debt)\n",
              "(Income ⟂ CreditScore | Default)\n",
              "(Income ⟂ CreditScore | Debt, Employment)\n",
              "(Income ⟂ CreditScore | Default, Employment)\n",
              "(Income ⟂ CreditScore | Debt, Default)\n",
              "(Income ⟂ CreditScore | Default, Debt, Employment)\n",
              "(CreditScore ⟂ Income, Default, Debt, Employment)\n",
              "(CreditScore ⟂ Employment, Debt, Default | Income)\n",
              "(CreditScore ⟂ Income, Debt, Default | Employment)\n",
              "(CreditScore ⟂ Income, Employment, Default | Debt)\n",
              "(CreditScore ⟂ Income, Debt, Employment | Default)\n",
              "(CreditScore ⟂ Debt, Default | Income, Employment)\n",
              "(CreditScore ⟂ Employment, Default | Income, Debt)\n",
              "(CreditScore ⟂ Employment, Debt, Default | Income, Approval)\n",
              "(CreditScore ⟂ Debt, Employment | Income, Default)\n",
              "(CreditScore ⟂ Income, Default | Debt, Employment)\n",
              "(CreditScore ⟂ Income, Debt | Default, Employment)\n",
              "(CreditScore ⟂ Income, Employment | Debt, Default)\n",
              "(CreditScore ⟂ Default | Income, Debt, Employment)\n",
              "(CreditScore ⟂ Debt, Default | Income, Approval, Employment)\n",
              "(CreditScore ⟂ Debt | Income, Default, Employment)\n",
              "(CreditScore ⟂ Employment, Default | Income, Approval, Debt)\n",
              "(CreditScore ⟂ Employment | Income, Debt, Default)\n",
              "(CreditScore ⟂ Debt, Employment | Income, Approval, Default)\n",
              "(CreditScore ⟂ Income | Default, Debt, Employment)\n",
              "(CreditScore ⟂ Default | Income, Approval, Debt, Employment)\n",
              "(CreditScore ⟂ Debt | Income, Default, Approval, Employment)\n",
              "(CreditScore ⟂ Employment | Income, Approval, Debt, Default)\n",
              "(Debt ⟂ CreditScore)\n",
              "(Debt ⟂ CreditScore, Approval, Employment | Income)\n",
              "(Debt ⟂ CreditScore | Employment)\n",
              "(Debt ⟂ CreditScore | Default)\n",
              "(Debt ⟂ Approval, Employment | Income, CreditScore)\n",
              "(Debt ⟂ CreditScore, Approval | Income, Employment)\n",
              "(Debt ⟂ CreditScore, Employment | Income, Approval)\n",
              "(Debt ⟂ CreditScore, Approval, Employment | Income, Default)\n",
              "(Debt ⟂ CreditScore | Default, Employment)\n",
              "(Debt ⟂ Approval | Income, CreditScore, Employment)\n",
              "(Debt ⟂ Employment | Income, CreditScore, Approval)\n",
              "(Debt ⟂ Approval, Employment | Income, CreditScore, Default)\n",
              "(Debt ⟂ CreditScore | Income, Approval, Employment)\n",
              "(Debt ⟂ CreditScore, Approval | Income, Default, Employment)\n",
              "(Debt ⟂ CreditScore, Employment | Income, Approval, Default)\n",
              "(Debt ⟂ Approval | Income, Default, CreditScore, Employment)\n",
              "(Debt ⟂ Employment | Income, CreditScore, Approval, Default)\n",
              "(Debt ⟂ CreditScore | Income, Default, Approval, Employment)\n",
              "(Default ⟂ CreditScore)\n",
              "(Default ⟂ CreditScore, Approval, Employment | Income)\n",
              "(Default ⟂ CreditScore | Debt)\n",
              "(Default ⟂ CreditScore | Employment)\n",
              "(Default ⟂ Approval, Employment | Income, CreditScore)\n",
              "(Default ⟂ CreditScore, Approval, Employment | Income, Debt)\n",
              "(Default ⟂ CreditScore, Employment | Income, Approval)\n",
              "(Default ⟂ CreditScore, Approval | Income, Employment)\n",
              "(Default ⟂ CreditScore | Debt, Employment)\n",
              "(Default ⟂ Approval, Employment | Income, CreditScore, Debt)\n",
              "(Default ⟂ Employment | Income, CreditScore, Approval)\n",
              "(Default ⟂ Approval | Income, CreditScore, Employment)\n",
              "(Default ⟂ CreditScore, Employment | Income, Approval, Debt)\n",
              "(Default ⟂ CreditScore, Approval | Income, Debt, Employment)\n",
              "(Default ⟂ CreditScore | Income, Approval, Employment)\n",
              "(Default ⟂ Employment | Income, CreditScore, Approval, Debt)\n",
              "(Default ⟂ Approval | Income, CreditScore, Debt, Employment)\n",
              "(Default ⟂ CreditScore | Income, Approval, Debt, Employment)\n",
              "(Approval ⟂ Employment, Debt, Default | Income)\n",
              "(Approval ⟂ Employment, Debt, Default | Income, CreditScore)\n",
              "(Approval ⟂ Debt, Default | Income, Employment)\n",
              "(Approval ⟂ Employment, Default | Income, Debt)\n",
              "(Approval ⟂ Debt, Employment | Income, Default)\n",
              "(Approval ⟂ Debt, Default | Income, CreditScore, Employment)\n",
              "(Approval ⟂ Employment, Default | Income, CreditScore, Debt)\n",
              "(Approval ⟂ Debt, Employment | Income, CreditScore, Default)\n",
              "(Approval ⟂ Default | Income, Debt, Employment)\n",
              "(Approval ⟂ Debt | Income, Default, Employment)\n",
              "(Approval ⟂ Employment | Income, Debt, Default)\n",
              "(Approval ⟂ Default | Income, CreditScore, Debt, Employment)\n",
              "(Approval ⟂ Debt | Income, Default, CreditScore, Employment)\n",
              "(Approval ⟂ Employment | Income, CreditScore, Debt, Default)\n",
              "(Employment ⟂ CreditScore)\n",
              "(Employment ⟂ CreditScore, Approval, Debt, Default | Income)\n",
              "(Employment ⟂ CreditScore | Debt)\n",
              "(Employment ⟂ CreditScore | Default)\n",
              "(Employment ⟂ Approval, Debt, Default | Income, CreditScore)\n",
              "(Employment ⟂ CreditScore, Approval, Default | Income, Debt)\n",
              "(Employment ⟂ CreditScore, Debt, Default | Income, Approval)\n",
              "(Employment ⟂ CreditScore, Approval, Debt | Income, Default)\n",
              "(Employment ⟂ CreditScore | Debt, Default)\n",
              "(Employment ⟂ Approval, Default | Income, CreditScore, Debt)\n",
              "(Employment ⟂ Debt, Default | Income, CreditScore, Approval)\n",
              "(Employment ⟂ Approval, Debt | Income, CreditScore, Default)\n",
              "(Employment ⟂ CreditScore, Default | Income, Approval, Debt)\n",
              "(Employment ⟂ CreditScore, Approval | Income, Debt, Default)\n",
              "(Employment ⟂ CreditScore, Debt | Income, Approval, Default)\n",
              "(Employment ⟂ Default | Income, CreditScore, Approval, Debt)\n",
              "(Employment ⟂ Approval | Income, CreditScore, Debt, Default)\n",
              "(Employment ⟂ Debt | Income, CreditScore, Approval, Default)\n",
              "(Employment ⟂ CreditScore | Income, Approval, Debt, Default)"
            ]
          },
          "metadata": {},
          "execution_count": 95
        }
      ],
      "source": [
        "# Retrieve the independencies of all nodes\n",
        "credit_card.get_independencies()"
      ],
      "id": "1XUQmSz9ySEV"
    },
    {
      "cell_type": "code",
      "execution_count": 96,
      "metadata": {
        "id": "vC3B74QYySEW"
      },
      "outputs": [],
      "source": [
        " def __init__(self, model):\n",
        "    self.model = credit_card\n",
        "    self.model.check_model()\n",
        "    "
      ],
      "id": "vC3B74QYySEW"
    },
    {
      "cell_type": "markdown",
      "metadata": {
        "id": "NWx5SHRWySEX"
      },
      "source": [
        "### Querying the Bayesian Network"
      ],
      "id": "NWx5SHRWySEX"
    },
    {
      "cell_type": "code",
      "execution_count": 97,
      "metadata": {
        "id": "9d6tntDNySEY"
      },
      "outputs": [],
      "source": [
        "from pgmpy.inference import VariableElimination"
      ],
      "id": "9d6tntDNySEY"
    },
    {
      "cell_type": "code",
      "execution_count": 98,
      "metadata": {
        "id": "RnPxRmn2ySEZ"
      },
      "outputs": [],
      "source": [
        "# Initiate VariableElimination to infer probabilites\n",
        "approval_infer=VariableElimination(credit_card)"
      ],
      "id": "RnPxRmn2ySEZ"
    },
    {
      "cell_type": "markdown",
      "metadata": {
        "id": "RYMFePnNySEa"
      },
      "source": [
        "#### Query 1: \n",
        "What is the probability that the credit card will get approved?"
      ],
      "id": "RYMFePnNySEa"
    },
    {
      "cell_type": "code",
      "source": [
        "# Perform the query\n",
        "prob_cc_approval = approval_infer.query(\n",
        "    variables=['Approval'],\n",
        "    joint=False)\n",
        "\n",
        "# Print the result \n",
        "print(prob_cc_approval['Approval'])"
      ],
      "metadata": {
        "colab": {
          "base_uri": "https://localhost:8080/"
        },
        "id": "DOlyvF46Rgiq",
        "outputId": "1f8ddf38-8c94-4c92-cad0-1ede22258e89"
      },
      "id": "DOlyvF46Rgiq",
      "execution_count": 106,
      "outputs": [
        {
          "output_type": "stream",
          "name": "stdout",
          "text": [
            "+-------------+-----------------+\n",
            "| Approval    |   phi(Approval) |\n",
            "+=============+=================+\n",
            "| Approval(0) |          0.6732 |\n",
            "+-------------+-----------------+\n",
            "| Approval(1) |          0.3268 |\n",
            "+-------------+-----------------+\n"
          ]
        }
      ]
    },
    {
      "cell_type": "markdown",
      "metadata": {
        "id": "ltekLgEJySEa"
      },
      "source": [
        "#### Query 2: \n",
        "What is the probability of getting a credit card approval when the applicant does not have a high income? "
      ],
      "id": "ltekLgEJySEa"
    },
    {
      "cell_type": "code",
      "source": [
        "# Perform the query\n",
        "prob_cc_approval_lincome = approval_infer.query(\n",
        "    variables = ['Approval'],\n",
        "    joint = False,\n",
        "    evidence = ({'Income' : 0})\n",
        ")\n",
        "\n",
        "# Print the result \n",
        "print(prob_cc_approval_lincome['Approval'])"
      ],
      "metadata": {
        "colab": {
          "base_uri": "https://localhost:8080/"
        },
        "id": "YfgfgTrWRx_U",
        "outputId": "3fac47ba-4ebe-4eb2-c7a0-a6d5537cd6e6"
      },
      "id": "YfgfgTrWRx_U",
      "execution_count": 105,
      "outputs": [
        {
          "output_type": "stream",
          "name": "stdout",
          "text": [
            "+-------------+-----------------+\n",
            "| Approval    |   phi(Approval) |\n",
            "+=============+=================+\n",
            "| Approval(0) |          0.8100 |\n",
            "+-------------+-----------------+\n",
            "| Approval(1) |          0.1900 |\n",
            "+-------------+-----------------+\n"
          ]
        }
      ]
    },
    {
      "cell_type": "markdown",
      "metadata": {
        "id": "5w1KWOsMySEb"
      },
      "source": [
        "#### Query 3:\n",
        "What is the probability that an applicant with a high credit score and a history of default gets credit card approval?"
      ],
      "id": "5w1KWOsMySEb"
    },
    {
      "cell_type": "code",
      "execution_count": 104,
      "metadata": {
        "colab": {
          "base_uri": "https://localhost:8080/"
        },
        "id": "fxI1bAISySEc",
        "outputId": "6156e66a-6ad1-42b3-9e7b-672b4bd51100"
      },
      "outputs": [
        {
          "output_type": "stream",
          "name": "stdout",
          "text": [
            "+-------------+-----------------+\n",
            "| Approval    |   phi(Approval) |\n",
            "+=============+=================+\n",
            "| Approval(0) |          0.5040 |\n",
            "+-------------+-----------------+\n",
            "| Approval(1) |          0.4960 |\n",
            "+-------------+-----------------+\n"
          ]
        }
      ],
      "source": [
        "# Perform the query\n",
        "prob_hcs_ydefault_approval = approval_infer.query(\n",
        "    variables=['Approval'],\n",
        "    joint=False,\n",
        "    evidence={'CreditScore': 1, 'Default': 1}\n",
        ")\n",
        "\n",
        "# Print the result\n",
        "print(prob_hcs_ydefault_approval['Approval'])"
      ],
      "id": "fxI1bAISySEc"
    }
  ],
  "metadata": {
    "kernelspec": {
      "display_name": "Python 3 (ipykernel)",
      "language": "python",
      "name": "python3"
    },
    "language_info": {
      "codemirror_mode": {
        "name": "ipython",
        "version": 3
      },
      "file_extension": ".py",
      "mimetype": "text/x-python",
      "name": "python",
      "nbconvert_exporter": "python",
      "pygments_lexer": "ipython3",
      "version": "3.8.5"
    },
    "colab": {
      "provenance": []
    }
  },
  "nbformat": 4,
  "nbformat_minor": 5
}